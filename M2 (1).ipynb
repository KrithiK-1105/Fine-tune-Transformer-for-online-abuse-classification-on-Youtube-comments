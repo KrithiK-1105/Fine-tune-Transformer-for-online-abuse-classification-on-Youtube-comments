{
 "cells": [
  {
   "cell_type": "markdown",
   "metadata": {
    "id": "uvY5GBLOStHK"
   },
   "source": [
    "#Importing The Module\n"
   ]
  },
  {
   "cell_type": "code",
   "execution_count": null,
   "metadata": {},
   "outputs": [],
   "source": [
    "from google.colab import drive\n",
    "drive.mount('/content/drive')"
   ]
  },
  {
   "cell_type": "markdown",
   "metadata": {
    "id": "5jxiG376S8q5"
   },
   "source": [
    "#Data Collection"
   ]
  },
  {
   "cell_type": "code",
   "execution_count": null,
   "metadata": {},
   "outputs": [],
   "source": [
    "import pandas as pd\n",
    "import matplotlib.pyplot as plt\n",
    "import numpy as np\n",
    "from nltk.tokenize import sent_tokenize, word_tokenize\n",
    "import nltk\n",
    "from collections import Counter\n",
    "from sklearn.preprocessing import LabelEncoder\n",
    "from sklearn.model_selection import train_test_split"
   ]
  },
  {
   "cell_type": "markdown",
   "metadata": {
    "id": "3rWA_XbyTKiH"
   },
   "source": [
    "#Data PreProcessing"
   ]
  },
  {
   "cell_type": "code",
   "execution_count": null,
   "metadata": {},
   "outputs": [],
   "source": [
    "from google.colab import drive\n",
    "import pandas as pd\n",
    "\n",
    "\n",
    "df = pd.read_csv(\"/content/drive/MyDrive/abuse dataset_try_2/twitterdataset.csv\")\n",
    "\n",
    "# Replace 'Abuse' with 1 and 'Non_Abuse' with 0 in the 'label' column\n",
    "df['label'] = df['label'].replace({'Abuse': 1, 'Non_Abuse': 0})\n",
    "\n",
    "# Limit to 725 non-abuse samples only\n",
    "non_abuse_samples = df[df['label'] == 0].head(2725)\n",
    "\n",
    "# Change 0 to \"Non_Abuse\" in the label column\n",
    "non_abuse_samples['label'] = \"Non_Abuse\"\n",
    "\n",
    "# Save the modified dataset\n",
    "non_abuse_samples.to_csv(\"/content/drive/MyDrive/abuse dataset_try_2/youtube_dataset_2725_non_abuse.csv\", index=False)\n",
    "\n",
    "print(\"✅ Dataset modified and saved as 'youtube_dataset_2725_non_abuse.csv'\")\n"
   ]
  },
  {
   "cell_type": "code",
   "execution_count": null,
   "metadata": {},
   "outputs": [],
   "source": [
    "# Load the two datasets\n",
    "df1 = pd.read_csv(\"/content/drive/MyDrive/abuse_dataset_try/original_dataset _abuse _dataset.csv\")\n",
    "df2 = pd.read_csv(\"/content/drive/MyDrive/abuse dataset_try_2/youtube_dataset_2725_non_abuse.csv\")\n",
    "\n",
    "# Merge the datasets\n",
    "merged_df = pd.concat([df1, df2], ignore_index=True)\n",
    "\n",
    "# Save the merged dataset to a new CSV file\n",
    "merged_df.to_csv(\"/content/drive/MyDrive/abuse dataset_try_2/merged_dataset.csv\", index=False)\n",
    "\n",
    "print(\"✅ Datasets merged and saved as 'merged_dataset.csv'\")\n"
   ]
  },
  {
   "cell_type": "code",
   "execution_count": null,
   "metadata": {},
   "outputs": [],
   "source": [
    "df = pd.read_csv(r'/content/drive/MyDrive/abuse dataset_try_2/merged_dataset.csv')"
   ]
  },
  {
   "cell_type": "code",
   "execution_count": null,
   "metadata": {},
   "outputs": [],
   "source": [
    "df['label'].value_counts()"
   ]
  },
  {
   "cell_type": "code",
   "execution_count": null,
   "metadata": {},
   "outputs": [],
   "source": [
    "\n",
    "df = df[['text', 'label' ]]\n",
    "df.head()\n",
    "df.shape\n"
   ]
  },
  {
   "cell_type": "code",
   "execution_count": null,
   "metadata": {},
   "outputs": [],
   "source": [
    "df.shape"
   ]
  },
  {
   "cell_type": "code",
   "execution_count": null,
   "metadata": {},
   "outputs": [],
   "source": [
    "df.duplicated().sum()"
   ]
  },
  {
   "cell_type": "code",
   "execution_count": null,
   "metadata": {},
   "outputs": [],
   "source": [
    "df.drop_duplicates(inplace=True)\n",
    "df.duplicated().sum()\n"
   ]
  },
  {
   "cell_type": "code",
   "execution_count": null,
   "metadata": {},
   "outputs": [],
   "source": [
    "df.shape"
   ]
  },
  {
   "cell_type": "code",
   "execution_count": null,
   "metadata": {},
   "outputs": [],
   "source": [
    "df.isnull().sum()\n"
   ]
  },
  {
   "cell_type": "code",
   "execution_count": null,
   "metadata": {},
   "outputs": [],
   "source": [
    "df.shape"
   ]
  },
  {
   "cell_type": "code",
   "execution_count": null,
   "metadata": {},
   "outputs": [],
   "source": [
    "df['label'].value_counts()\n"
   ]
  },
  {
   "cell_type": "code",
   "execution_count": null,
   "metadata": {},
   "outputs": [],
   "source": [
    "df.columns"
   ]
  },
  {
   "cell_type": "markdown",
   "metadata": {
    "id": "6KVCq5ulpNZe"
   },
   "source": [
    "#Average word count"
   ]
  },
  {
   "cell_type": "code",
   "execution_count": null,
   "metadata": {},
   "outputs": [],
   "source": [
    "df[\"word_count\"] = df[\"text\"].apply(lambda x: len(str(x).split()))\n",
    "\n",
    "# Calculate the average word count\n",
    "average_word_count = df[\"word_count\"].mean()\n",
    "\n",
    "print(f\"The average word count is: {average_word_count}\")"
   ]
  },
  {
   "cell_type": "markdown",
   "metadata": {
    "id": "yPKWv88Tpjwt"
   },
   "source": [
    "#Max word count"
   ]
  },
  {
   "cell_type": "code",
   "execution_count": null,
   "metadata": {},
   "outputs": [],
   "source": [
    "# max word count\n",
    "max_word_count = df['text'].max()\n",
    "print(f\"The maximum word count is: {max_word_count}\")"
   ]
  },
  {
   "cell_type": "code",
   "execution_count": null,
   "metadata": {},
   "outputs": [],
   "source": [
    "df['word_count'].describe()"
   ]
  },
  {
   "cell_type": "code",
   "execution_count": null,
   "metadata": {},
   "outputs": [],
   "source": [
    "df.head()"
   ]
  },
  {
   "cell_type": "markdown",
   "metadata": {
    "id": "ewbV7jo787rJ"
   },
   "source": [
    "#Use the Albert Model"
   ]
  },
  {
   "cell_type": "code",
   "execution_count": null,
   "metadata": {},
   "outputs": [],
   "source": [
    "df = pd.read_csv(r'/content/drive/MyDrive/abuse dataset_try_2/merged_dataset.csv')"
   ]
  },
  {
   "cell_type": "code",
   "execution_count": null,
   "metadata": {},
   "outputs": [],
   "source": [
    "from transformers import AlbertForSequenceClassification, AlbertTokenizer\n",
    "\n",
    "# Load pre-trained ALBERT model for multiclass classification\n",
    "model = AlbertForSequenceClassification.from_pretrained('albert-base-v1', num_labels=len(df['label'].unique()))  # Adjust num_labels as per your classes\n",
    "tokenizer = AlbertTokenizer.from_pretrained(\"albert-base-v1\")\n",
    "\n",
    "# If you want to load a model from a specific checkpoint, you can do so by replacing the pretrained model name with the checkpoint path\n",
    "# model = AlbertForSequenceClassification.from_pretrained('/content/results/checkpoint-1788')\n"
   ]
  },
  {
   "cell_type": "markdown",
   "metadata": {
    "id": "4JmcO37qTejW"
   },
   "source": [
    "#Split the Training,Validation"
   ]
  },
  {
   "cell_type": "code",
   "execution_count": null,
   "metadata": {},
   "outputs": [],
   "source": [
    "from sklearn.model_selection import train_test_split\n",
    "# Split the data into train and validation sets (80% train, 20% validation)\n",
    "train_df, val_df = train_test_split(df, test_size=0.2, random_state=42)"
   ]
  },
  {
   "cell_type": "code",
   "execution_count": null,
   "metadata": {},
   "outputs": [],
   "source": [
    "!pip install Datasets"
   ]
  },
  {
   "cell_type": "code",
   "execution_count": null,
   "metadata": {},
   "outputs": [],
   "source": [
    "from datasets import Dataset\n",
    "# Converting the DataFrames to Hugging Face datasets\n",
    "train_dataset = Dataset.from_pandas(train_df)\n",
    "val_dataset = Dataset.from_pandas(val_df)\n",
    "\n",
    "def preprocess_function(examples):\n",
    "    examples['labels'] = examples['label']\n",
    "    return tokenizer(examples[\"text\"], padding=\"max_length\", truncation=True)\n",
    "\n",
    "# Tokenize the datasets\n",
    "train_dataset = train_dataset.map(preprocess_function, batched=True)\n",
    "val_dataset = val_dataset.map(preprocess_function, batched=True)"
   ]
  },
  {
   "cell_type": "code",
   "execution_count": null,
   "metadata": {},
   "outputs": [],
   "source": [
    "\n",
    "\n",
    "# ✅ Step 5: Save to Disk (Optional, for future use)\n",
    "val_dataset.save_to_disk(\"/content/drive/MyDrive/abuse dataset_try_2/val_dataset\")\n",
    "\n",
    "print(\"Validation dataset created successfully!\")"
   ]
  },
  {
   "cell_type": "code",
   "execution_count": null,
   "metadata": {},
   "outputs": [],
   "source": [
    "val_dataset"
   ]
  },
  {
   "cell_type": "code",
   "execution_count": null,
   "metadata": {},
   "outputs": [],
   "source": [
    "df.columns"
   ]
  },
  {
   "cell_type": "code",
   "execution_count": null,
   "metadata": {},
   "outputs": [],
   "source": [
    "from transformers import Trainer, TrainingArguments\n",
    "from datasets import Dataset\n",
    "import torch\n",
    "from sklearn.metrics import accuracy_score\n",
    "\n",
    "# ✅ Ensure labels are correctly formatted (Convert \"Abuse\" -> 1, \"Non_Abuse\" -> 0)\n",
    "def convert_labels(example):\n",
    "    if example['label'] == \"Abuse\":\n",
    "        example['label'] = 1\n",
    "    elif example['label'] == \"Non_Abuse\":\n",
    "        example['label'] = 0\n",
    "    return example\n",
    "\n",
    "# ✅ Apply conversion to datasets\n",
    "train_dataset = train_dataset.map(convert_labels)\n",
    "val_dataset = val_dataset.map(convert_labels)\n",
    "\n",
    "# ✅ Compute metrics function\n",
    "def compute_metrics(p):\n",
    "    preds = p.predictions.argmax(-1)  # Get predicted class\n",
    "    labels = p.label_ids\n",
    "    accuracy = accuracy_score(labels, preds)  # Compute accuracy\n",
    "    return {\"accuracy\": accuracy}\n",
    "\n",
    "# ✅ Define training arguments\n",
    "training_args = TrainingArguments(\n",
    "    output_dir='./results',              # Save model & checkpoints\n",
    "    eval_strategy=\"epoch\",               # Evaluate every epoch (fixed deprecation warning)\n",
    "    save_strategy=\"epoch\",               # Save checkpoint every epoch\n",
    "    logging_dir='./logs',                # Log directory\n",
    "    num_train_epochs=15,                  # Number of epochs\n",
    "    per_device_train_batch_size=16,      # Batch size for training\n",
    "    per_device_eval_batch_size=16,       # Batch size for evaluation\n",
    "    logging_steps=10,                    # Log every 10 steps\n",
    "    save_total_limit=3,                   # Keep last 3 checkpoints\n",
    "    load_best_model_at_end=True,          # Load best model at the end\n",
    "    report_to=[],                         # Disable WandB logging\n",
    ")\n",
    "\n",
    "# ✅ Initialize Trainer\n",
    "trainer = Trainer(\n",
    "    model=model,\n",
    "    args=training_args,\n",
    "    train_dataset=train_dataset,\n",
    "    eval_dataset=val_dataset,\n",
    "    compute_metrics=compute_metrics  # Compute accuracy\n",
    ")\n",
    "\n",
    "# ✅ Start training\n",
    "trainer.train()\n"
   ]
  },
  {
   "cell_type": "markdown",
   "metadata": {
    "id": "uFdWn6mPTuK5"
   },
   "source": [
    "#Evaluate the Result"
   ]
  },
  {
   "cell_type": "code",
   "execution_count": null,
   "metadata": {},
   "outputs": [],
   "source": [
    "# Evaluate the model on validation data\n",
    "val_results = trainer.evaluate(val_dataset)\n",
    "\n",
    "# Extract loss and accuracy\n",
    "val_loss = val_results.get(\"eval_loss\", \"N/A\")\n",
    "val_acc = val_results.get(\"eval_accuracy\", 0)  # Default to 0 if not found\n",
    "\n",
    "# Print validation loss and accuracy\n",
    "print(f\"Validation loss: {val_loss}\")\n",
    "print(f\"Validation accuracy: {val_acc}\")\n"
   ]
  },
  {
   "cell_type": "markdown",
   "metadata": {
    "id": "QKLubh2ET2Kq"
   },
   "source": [
    "#Save the Model"
   ]
  },
  {
   "cell_type": "code",
   "execution_count": null,
   "metadata": {},
   "outputs": [],
   "source": [
    "trainer.save_model(\"/content/drive/MyDrive/abuse dataset_try_2/model\")\n",
    "tokenizer.save_pretrained(\"/content/drive/MyDrive/abuse dataset_try_2/model\")\n"
   ]
  },
  {
   "cell_type": "markdown",
   "metadata": {
    "id": "m81W9NbVT9yl"
   },
   "source": [
    "#Classification Report"
   ]
  },
  {
   "cell_type": "code",
   "execution_count": null,
   "metadata": {},
   "outputs": [],
   "source": [
    "import numpy as np\n",
    "import torch\n",
    "from sklearn.metrics import confusion_matrix, classification_report\n",
    "import seaborn as sns\n",
    "import matplotlib.pyplot as plt\n",
    "\n",
    "# Get predictions from the model\n",
    "predictions = trainer.predict(val_dataset)\n",
    "\n",
    "# Convert logits to predicted class labels\n",
    "pred_labels = np.argmax(predictions.predictions, axis=1)\n",
    "\n",
    "# Get the actual labels\n",
    "true_labels = predictions.label_ids\n",
    "\n",
    "# Print classification report\n",
    "print(\"Classification Report:\\n\", classification_report(true_labels, pred_labels))\n"
   ]
  },
  {
   "cell_type": "markdown",
   "metadata": {
    "id": "SOAUZRGMUIEZ"
   },
   "source": [
    "#Confusion Matrix"
   ]
  },
  {
   "cell_type": "code",
   "execution_count": null,
   "metadata": {},
   "outputs": [],
   "source": [
    "from sklearn.metrics import confusion_matrix\n",
    "cm = confusion_matrix(true_labels, pred_labels)\n",
    "\n",
    "labels = [\"Non-Abuse\", \"Abuse\"]\n",
    "\n",
    "# Plot the confusion matrix\n",
    "plt.figure(figsize=(6, 5))\n",
    "sns.heatmap(cm, annot=True, fmt=\"d\", cmap=\"Blues\", xticklabels=labels, yticklabels=labels)\n",
    "plt.xlabel(\"Predicted Label\")\n",
    "plt.ylabel(\"True Label\")\n",
    "plt.title(\"Confusion Matrix (Abuse vs. Non-Abuse)\")\n",
    "plt.show()"
   ]
  },
  {
   "cell_type": "markdown",
   "metadata": {
    "id": "aqOIUw2oUUW4"
   },
   "source": [
    "#Load the Model"
   ]
  },
  {
   "cell_type": "code",
   "execution_count": null,
   "metadata": {},
   "outputs": [],
   "source": [
    "from transformers import AlbertForSequenceClassification, Trainer, TrainingArguments\n",
    "\n",
    "# Define model directory (change if different)\n",
    "model_dir = \"/content/drive/MyDrive/abuse dataset_try_2/model\"\n",
    "\n",
    "# Load fine-tuned ALBERT model\n",
    "model = AlbertForSequenceClassification.from_pretrained(model_dir)\n",
    "\n",
    "# Load training arguments (optional, for evaluation)\n",
    "training_args = TrainingArguments(output_dir=model_dir)\n",
    "\n",
    "# Reload trainer with fine-tuned model\n",
    "trainer = Trainer(model=model, args=training_args)\n",
    "\n",
    "print(\"✅ Model loaded successfully!\")\n"
   ]
  },
  {
   "cell_type": "code",
   "execution_count": null,
   "metadata": {},
   "outputs": [],
   "source": [
    "!pip install evaluate"
   ]
  },
  {
   "cell_type": "markdown",
   "metadata": {
    "id": "QCbQ48uHaN-q"
   },
   "source": [
    "# Plotting Training and Validation Accuracy"
   ]
  },
  {
   "cell_type": "code",
   "execution_count": null,
   "metadata": {},
   "outputs": [],
   "source": [
    "import numpy as np\n",
    "import matplotlib.pyplot as plt\n",
    "from transformers import AlbertForSequenceClassification, Trainer, TrainingArguments, AutoTokenizer\n",
    "from datasets import load_from_disk\n",
    "import evaluate\n",
    "\n",
    "# Define paths\n",
    "model_dir = \"/content/drive/MyDrive/abuse dataset_try_2/model\"\n",
    "val_dataset_path = \"/content/drive/MyDrive/abuse dataset_try_2/val_dataset\"\n",
    "\n",
    "# Load tokenizer\n",
    "tokenizer = AutoTokenizer.from_pretrained(\"albert-base-v1\")\n",
    "\n",
    "# Load fine-tuned ALBERT model\n",
    "model = AlbertForSequenceClassification.from_pretrained(model_dir)\n",
    "\n",
    "# Load validation dataset\n",
    "val_dataset = load_from_disk(val_dataset_path)\n",
    "\n",
    "# Convert string labels to integers\n",
    "label_map = {\"Non_Abuse\": 0, \"Abuse\": 1}  # Adjust mapping if needed\n",
    "\n",
    "def convert_labels(example):\n",
    "    example[\"label\"] = label_map[example[\"label\"]]  # Convert label string to integer\n",
    "    return example\n",
    "\n",
    "val_dataset = val_dataset.map(convert_labels)\n",
    "\n",
    "# Ensure dataset is tokenized\n",
    "def tokenize_function(examples):\n",
    "    return tokenizer(examples[\"text\"], truncation=True, padding=\"max_length\")\n",
    "\n",
    "val_dataset = val_dataset.map(tokenize_function, batched=True)\n",
    "\n",
    "# ✅ Use Hugging Face's new `evaluate` library for accuracy\n",
    "accuracy_metric = evaluate.load(\"accuracy\")\n",
    "\n",
    "# Function to compute accuracy\n",
    "def compute_metrics(eval_pred):\n",
    "    logits, labels = eval_pred\n",
    "    predictions = np.argmax(logits, axis=-1)  # Convert logits to class predictions\n",
    "    return accuracy_metric.compute(predictions=predictions, references=labels)\n",
    "\n",
    "# Load training arguments (disable wandb)\n",
    "training_args = TrainingArguments(\n",
    "    output_dir=model_dir,\n",
    "    report_to=\"none\",  # Disables wandb logging\n",
    "    per_device_eval_batch_size=16  # Adjust batch size if needed\n",
    ")\n",
    "\n",
    "# Reload trainer with accuracy metric\n",
    "trainer = Trainer(\n",
    "    model=model,\n",
    "    args=training_args,\n",
    "    compute_metrics=compute_metrics\n",
    ")\n",
    "\n",
    "# Evaluate on validation dataset\n",
    "eval_results = trainer.evaluate(val_dataset)\n",
    "\n",
    "# Extract loss and accuracy\n",
    "val_loss = eval_results[\"eval_loss\"]\n",
    "val_accuracy = eval_results[\"eval_accuracy\"]  # Now accuracy should be present!\n",
    "\n",
    "# Extract training loss from logs\n",
    "train_loss = [log[\"loss\"] for log in trainer.state.log_history if \"loss\" in log]\n",
    "epochs = list(range(1, len(train_loss) + 1))  # Assuming 1 epoch per entry\n",
    "\n",
    "# Plot Training Loss vs Validation Loss\n",
    "plt.figure(figsize=(10, 5))\n",
    "plt.plot(epochs, train_loss, label=\"Training Loss\", marker=\"o\", linestyle=\"-\")\n",
    "plt.axhline(y=val_loss, color=\"r\", linestyle=\"--\", label=\"Validation Loss (Final)\")\n",
    "plt.xlabel(\"Epochs\")\n",
    "plt.ylabel(\"Loss\")\n",
    "plt.title(\"Training vs Validation Loss\")\n",
    "plt.legend()\n",
    "plt.grid()\n",
    "plt.show()\n",
    "\n",
    "# Plot Validation Accuracy\n",
    "plt.figure(figsize=(10, 5))\n",
    "plt.axhline(y=val_accuracy, color=\"g\", linestyle=\"--\", label=\"Validation Accuracy\")\n",
    "plt.xlabel(\"Epochs\")\n",
    "plt.ylabel(\"Accuracy\")\n",
    "plt.title(\"Validation Accuracy\")\n",
    "plt.legend()\n",
    "plt.grid()\n",
    "plt.show()\n",
    "\n",
    "print(f\"✅ Model evaluated on validation set | Loss: {val_loss:.4f}, Accuracy: {val_accuracy:.4f}\")\n"
   ]
  },
  {
   "cell_type": "markdown",
   "metadata": {
    "id": "nlFPZEnY0sde"
   },
   "source": []
  },
  {
   "cell_type": "markdown",
   "metadata": {
    "id": "Uqa1rQQa6Ce-"
   },
   "source": [
    "# Prediction for both Abuse and Non_Abuse"
   ]
  },
  {
   "cell_type": "code",
   "execution_count": null,
   "metadata": {},
   "outputs": [],
   "source": [
    "from transformers import AlbertTokenizer, AlbertForSequenceClassification\n",
    "import torch\n",
    "\n",
    "# Load tokenizer and model (Ensure paths are correct)\n",
    "model_path = \"/content/drive/MyDrive/abuse dataset_try_2/model\"\n",
    "tokenizer = AlbertTokenizer.from_pretrained(model_path)\n",
    "model = AlbertForSequenceClassification.from_pretrained(model_path)\n",
    "\n",
    "# Move model to device (GPU or CPU)\n",
    "device = torch.device(\"cuda\" if torch.cuda.is_available() else \"cpu\")\n",
    "model.to(device)\n",
    "\n",
    "# Example new texts\n",
    "new_texts = [\n",
    "    \"Your ideas are brilliant and truly inspiring\",\n",
    "    \"greece and serbia against all hd p youtube thank you brother greeks\"\n",
    "]\n",
    "\n",
    "# Tokenize inputs (without return_tensors=\"pt\")\n",
    "tokenized_inputs = tokenizer(new_texts, padding=\"max_length\", truncation=True, max_length=512)\n",
    "\n",
    "# Convert tokenized inputs to PyTorch tensors manually\n",
    "input_ids = torch.tensor(tokenized_inputs[\"input_ids\"])\n",
    "attention_mask = torch.tensor(tokenized_inputs[\"attention_mask\"])\n",
    "\n",
    "# Move inputs to the same device as the model\n",
    "input_ids = input_ids.to(device)\n",
    "attention_mask = attention_mask.to(device)\n",
    "\n",
    "# Make predictions\n",
    "model.eval()\n",
    "with torch.no_grad():\n",
    "    outputs = model(input_ids=input_ids, attention_mask=attention_mask)\n",
    "    predictions = torch.argmax(outputs.logits, dim=1)\n",
    "\n",
    "# Print predictions\n",
    "print(\"Predictions:\", predictions.tolist())  # 0 = non-abusive, 1 = abusive\n"
   ]
  },
  {
   "cell_type": "markdown",
   "metadata": {
    "id": "48JJdeC693aV"
   },
   "source": [
    "#Real Time Prediction"
   ]
  },
  {
   "cell_type": "markdown",
   "metadata": {
    "id": "ZVm2Lc1t9-cE"
   },
   "source": [
    "#Prediction for Abuse"
   ]
  },
  {
   "cell_type": "code",
   "execution_count": null,
   "metadata": {},
   "outputs": [],
   "source": [
    "from transformers import AlbertTokenizer, AlbertForSequenceClassification\n",
    "import torch\n",
    "\n",
    "# Load tokenizer and model (Ensure paths are correct)\n",
    "model_path = \"/content/drive/MyDrive/abuse dataset_try_2/model\"\n",
    "tokenizer = AlbertTokenizer.from_pretrained(model_path)\n",
    "model = AlbertForSequenceClassification.from_pretrained(model_path)\n",
    "\n",
    "# Move model to device (GPU or CPU)\n",
    "device = torch.device(\"cuda\" if torch.cuda.is_available() else \"cpu\")\n",
    "model.to(device)\n",
    "\n",
    "# Example abusive texts\n",
    "abusive_texts = [\n",
    "    \"You are an idiot, no one cares about your opinion.\"\n",
    "\n",
    "]\n",
    "\n",
    "# Tokenize inputs\n",
    "tokenized_inputs = tokenizer(abusive_texts, padding=\"max_length\", truncation=True, max_length=512)\n",
    "\n",
    "# Convert to PyTorch tensors\n",
    "input_ids = torch.tensor(tokenized_inputs[\"input_ids\"]).to(device)\n",
    "attention_mask = torch.tensor(tokenized_inputs[\"attention_mask\"]).to(device)\n",
    "\n",
    "# Make predictions\n",
    "model.eval()\n",
    "with torch.no_grad():\n",
    "    outputs = model(input_ids=input_ids, attention_mask=attention_mask)\n",
    "    predictions = torch.argmax(outputs.logits, dim=1).tolist()\n",
    "\n",
    "# Display only abusive sentences\n",
    "print(\"\\n🔴 Abusive Sentences:\")\n",
    "for text, label in zip(abusive_texts, predictions):\n",
    "    if label == 1:\n",
    "        print(f\"- {text}\")\n"
   ]
  },
  {
   "cell_type": "markdown",
   "metadata": {
    "id": "j__M0Tqt-QVc"
   },
   "source": [
    "#Prediction for Non abuse"
   ]
  },
  {
   "cell_type": "code",
   "execution_count": null,
   "metadata": {},
   "outputs": [],
   "source": [
    "from transformers import AlbertTokenizer, AlbertForSequenceClassification\n",
    "import torch\n",
    "\n",
    "# Load tokenizer and model (Ensure paths are correct)\n",
    "model_path = \"/content/drive/MyDrive/abuse dataset_try_2/model\"\n",
    "tokenizer = AlbertTokenizer.from_pretrained(model_path)\n",
    "model = AlbertForSequenceClassification.from_pretrained(model_path)\n",
    "\n",
    "# Move model to device (GPU or CPU)\n",
    "device = torch.device(\"cuda\" if torch.cuda.is_available() else \"cpu\")\n",
    "model.to(device)\n",
    "\n",
    "# Example non-abusive texts\n",
    "non_abusive_texts = [\n",
    "    \"Your ideas are brilliant and truly inspiring\",\n",
    "\n",
    "]\n",
    "\n",
    "# Tokenize inputs\n",
    "tokenized_inputs = tokenizer(non_abusive_texts, padding=\"max_length\", truncation=True, max_length=512)\n",
    "\n",
    "# Convert to PyTorch tensors\n",
    "input_ids = torch.tensor(tokenized_inputs[\"input_ids\"]).to(device)\n",
    "attention_mask = torch.tensor(tokenized_inputs[\"attention_mask\"]).to(device)\n",
    "\n",
    "# Make predictions\n",
    "model.eval()\n",
    "with torch.no_grad():\n",
    "    outputs = model(input_ids=input_ids, attention_mask=attention_mask)\n",
    "    predictions = torch.argmax(outputs.logits, dim=1).tolist()\n",
    "\n",
    "# Display only non-abusive sentences\n",
    "print(\"\\n🟢 Non-Abusive Sentences:\")\n",
    "for text, label in zip(non_abusive_texts, predictions):\n",
    "    if label == 0:\n",
    "        print(f\"- {text}\")\n"
   ]
  }
 ],
 "metadata": {
  "kernelspec": {
   "display_name": "Python 3 (ipykernel)",
   "language": "python",
   "name": "python3"
  },
  "language_info": {
   "codemirror_mode": {
    "name": "ipython",
    "version": 3
   },
   "file_extension": ".py",
   "mimetype": "text/x-python",
   "name": "python",
   "nbconvert_exporter": "python",
   "pygments_lexer": "ipython3",
   "version": "3.9.13"
  }
 },
 "nbformat": 4,
 "nbformat_minor": 1
}
